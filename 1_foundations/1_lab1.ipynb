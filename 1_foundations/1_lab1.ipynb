{
 "cells": [
  {
   "cell_type": "markdown",
   "metadata": {},
   "source": [
    "# Welcome to the start of your adventure in Agentic AI"
   ]
  },
  {
   "cell_type": "markdown",
   "metadata": {},
   "source": [
    "<table style=\"margin: 0; text-align: left; width:100%\">\n",
    "    <tr>\n",
    "        <td style=\"width: 150px; height: 150px; vertical-align: middle;\">\n",
    "            <img src=\"../assets/stop.png\" width=\"150\" height=\"150\" style=\"display: block;\" />\n",
    "        </td>\n",
    "        <td>\n",
    "            <h2 style=\"color:#ff7800;\">Are you ready for action??</h2>\n",
    "            <span style=\"color:#ff7800;\">Have you completed all the setup steps in the <a href=\"../setup/\">setup</a> folder?<br/>\n",
    "            Have you checked out the guides in the <a href=\"../guides/01_intro.ipynb\">guides</a> folder?<br/>\n",
    "            Well in that case, you're ready!!\n",
    "            </span>\n",
    "        </td>\n",
    "    </tr>\n",
    "</table>"
   ]
  },
  {
   "cell_type": "markdown",
   "metadata": {},
   "source": [
    "<table style=\"margin: 0; text-align: left; width:100%\">\n",
    "    <tr>\n",
    "        <td style=\"width: 150px; height: 150px; vertical-align: middle;\">\n",
    "            <img src=\"../assets/tools.png\" width=\"150\" height=\"150\" style=\"display: block;\" />\n",
    "        </td>\n",
    "        <td>\n",
    "            <h2 style=\"color:#00bfff;\">This code is a live resource - keep an eye out for my updates</h2>\n",
    "            <span style=\"color:#00bfff;\">I push updates regularly. As people ask questions or have problems, I add more examples and improve explanations. As a result, the code below might not be identical to the videos, as I've added more steps and better comments. Consider this like an interactive book that accompanies the lectures.<br/><br/>\n",
    "            I try to send emails regularly with important updates related to the course. You can find this in the 'Announcements' section of Udemy in the left sidebar. You can also choose to receive my emails via your Notification Settings in Udemy. I'm respectful of your inbox and always try to add value with my emails!\n",
    "            </span>\n",
    "        </td>\n",
    "    </tr>\n",
    "</table>"
   ]
  },
  {
   "cell_type": "markdown",
   "metadata": {},
   "source": [
    "### And please do remember to contact me if I can help\n",
    "\n",
    "And I love to connect: https://www.linkedin.com/in/eddonner/\n",
    "\n",
    "\n",
    "### New to Notebooks like this one? Head over to the guides folder!\n",
    "\n",
    "Just to check you've already added the Python and Jupyter extensions to Cursor, if not already installed:\n",
    "- Open extensions (View >> extensions)\n",
    "- Search for python, and when the results show, click on the ms-python one, and Install it if not already installed\n",
    "- Search for jupyter, and when the results show, click on the Microsoft one, and Install it if not already installed  \n",
    "Then View >> Explorer to bring back the File Explorer.\n",
    "\n",
    "And then:\n",
    "1. Click where it says \"Select Kernel\" near the top right, and select the option called `.venv (Python 3.12.9)` or similar, which should be the first choice or the most prominent choice. You may need to choose \"Python Environments\" first.\n",
    "2. Click in each \"cell\" below, starting with the cell immediately below this text, and press Shift+Enter to run\n",
    "3. Enjoy!\n",
    "\n",
    "After you click \"Select Kernel\", if there is no option like `.venv (Python 3.12.9)` then please do the following:  \n",
    "1. On Mac: From the Cursor menu, choose Settings >> VS Code Settings (NOTE: be sure to select `VSCode Settings` not `Cursor Settings`);  \n",
    "On Windows PC: From the File menu, choose Preferences >> VS Code Settings(NOTE: be sure to select `VSCode Settings` not `Cursor Settings`)  \n",
    "2. In the Settings search bar, type \"venv\"  \n",
    "3. In the field \"Path to folder with a list of Virtual Environments\" put the path to the project root, like C:\\Users\\username\\projects\\agents (on a Windows PC) or /Users/username/projects/agents (on Mac or Linux).  \n",
    "And then try again.\n",
    "\n",
    "Having problems with missing Python versions in that list? Have you ever used Anaconda before? It might be interferring. Quit Cursor, bring up a new command line, and make sure that your Anaconda environment is deactivated:    \n",
    "`conda deactivate`  \n",
    "And if you still have any problems with conda and python versions, it's possible that you will need to run this too:  \n",
    "`conda config --set auto_activate_base false`  \n",
    "and then from within the Agents directory, you should be able to run `uv python list` and see the Python 3.12 version."
   ]
  },
  {
   "cell_type": "code",
   "execution_count": 15,
   "metadata": {},
   "outputs": [],
   "source": [
    "# First let's do an import\n",
    "from dotenv import load_dotenv\n"
   ]
  },
  {
   "cell_type": "code",
   "execution_count": 16,
   "metadata": {},
   "outputs": [
    {
     "data": {
      "text/plain": [
       "True"
      ]
     },
     "execution_count": 16,
     "metadata": {},
     "output_type": "execute_result"
    }
   ],
   "source": [
    "# Next it's time to load the API keys into environment variables\n",
    "\n",
    "load_dotenv(override=True)"
   ]
  },
  {
   "cell_type": "code",
   "execution_count": 17,
   "metadata": {},
   "outputs": [
    {
     "name": "stdout",
     "output_type": "stream",
     "text": [
      "OpenAI API Key exists and begins sk-proj-\n"
     ]
    }
   ],
   "source": [
    "# Check the keys\n",
    "\n",
    "import os\n",
    "openai_api_key = os.getenv('OPENAI_API_KEY')\n",
    "\n",
    "if openai_api_key:\n",
    "    print(f\"OpenAI API Key exists and begins {openai_api_key[:8]}\")\n",
    "else:\n",
    "    print(\"OpenAI API Key not set - please head to the troubleshooting guide in the setup folder\")\n",
    "    \n"
   ]
  },
  {
   "cell_type": "code",
   "execution_count": 18,
   "metadata": {},
   "outputs": [],
   "source": [
    "# And now - the all important import statement\n",
    "# If you get an import error - head over to troubleshooting guide\n",
    "\n",
    "from openai import OpenAI"
   ]
  },
  {
   "cell_type": "code",
   "execution_count": 19,
   "metadata": {},
   "outputs": [],
   "source": [
    "# And now we'll create an instance of the OpenAI class\n",
    "# If you're not sure what it means to create an instance of a class - head over to the guides folder!\n",
    "# If you get a NameError - head over to the guides folder to learn about NameErrors\n",
    "\n",
    "openai = OpenAI()"
   ]
  },
  {
   "cell_type": "code",
   "execution_count": 20,
   "metadata": {},
   "outputs": [],
   "source": [
    "# Create a list of messages in the familiar OpenAI format\n",
    "\n",
    "messages = [{\"role\": \"user\", \"content\": \"What is 2+2?\"}]"
   ]
  },
  {
   "cell_type": "code",
   "execution_count": 21,
   "metadata": {},
   "outputs": [
    {
     "name": "stdout",
     "output_type": "stream",
     "text": [
      "2 + 2 equals 4.\n"
     ]
    }
   ],
   "source": [
    "# And now call it! Any problems, head to the troubleshooting guide\n",
    "# This uses GPT 4.1 nano, the incredibly cheap model\n",
    "\n",
    "response = openai.chat.completions.create(\n",
    "    model=\"gpt-4.1-nano\",\n",
    "    messages=messages\n",
    ")\n",
    "\n",
    "print(response.choices[0].message.content)\n"
   ]
  },
  {
   "cell_type": "code",
   "execution_count": 22,
   "metadata": {},
   "outputs": [],
   "source": [
    "# And now - let's ask for a question:\n",
    "\n",
    "question = \"Please propose a hard, challenging question to assess someone's IQ. Respond only with the question.\"\n",
    "messages = [{\"role\": \"user\", \"content\": question}]\n"
   ]
  },
  {
   "cell_type": "code",
   "execution_count": 23,
   "metadata": {},
   "outputs": [
    {
     "name": "stdout",
     "output_type": "stream",
     "text": [
      "If 5 machines take 5 minutes to make 5 widgets, how long would 100 machines take to make 100 widgets?\n"
     ]
    }
   ],
   "source": [
    "# ask it - this uses GPT 4.1 mini, still cheap but more powerful than nano\n",
    "\n",
    "response = openai.chat.completions.create(\n",
    "    model=\"gpt-4.1-mini\",\n",
    "    messages=messages\n",
    ")\n",
    "\n",
    "question = response.choices[0].message.content\n",
    "\n",
    "print(question)\n"
   ]
  },
  {
   "cell_type": "code",
   "execution_count": 24,
   "metadata": {},
   "outputs": [],
   "source": [
    "# form a new messages list\n",
    "messages = [{\"role\": \"user\", \"content\": question}]\n"
   ]
  },
  {
   "cell_type": "code",
   "execution_count": 25,
   "metadata": {},
   "outputs": [
    {
     "name": "stdout",
     "output_type": "stream",
     "text": [
      "Let's analyze the problem step-by-step:\n",
      "\n",
      "- 5 machines take 5 minutes to make 5 widgets.\n",
      "- We want to find out how long 100 machines will take to make 100 widgets.\n",
      "\n",
      "From the given information:\n",
      "\n",
      "- If 5 machines make 5 widgets in 5 minutes, then 1 machine makes 1 widget in 5 minutes (because 5 machines working in parallel make 5 widgets in 5 minutes, so each machine makes 1 widget in 5 minutes).\n",
      "\n",
      "Now:\n",
      "\n",
      "- Each machine makes 1 widget in 5 minutes.\n",
      "- Therefore, 100 machines working simultaneously would each make 1 widget in 5 minutes.\n",
      "- Together, 100 machines would make 100 widgets in 5 minutes.\n",
      "\n",
      "**Answer:** 5 minutes\n"
     ]
    }
   ],
   "source": [
    "# Ask it again\n",
    "\n",
    "response = openai.chat.completions.create(\n",
    "    model=\"gpt-4.1-mini\",\n",
    "    messages=messages\n",
    ")\n",
    "\n",
    "answer = response.choices[0].message.content\n",
    "print(answer)\n"
   ]
  },
  {
   "cell_type": "code",
   "execution_count": 26,
   "metadata": {},
   "outputs": [
    {
     "data": {
      "text/markdown": [
       "Let's analyze the problem step-by-step:\n",
       "\n",
       "- 5 machines take 5 minutes to make 5 widgets.\n",
       "- We want to find out how long 100 machines will take to make 100 widgets.\n",
       "\n",
       "From the given information:\n",
       "\n",
       "- If 5 machines make 5 widgets in 5 minutes, then 1 machine makes 1 widget in 5 minutes (because 5 machines working in parallel make 5 widgets in 5 minutes, so each machine makes 1 widget in 5 minutes).\n",
       "\n",
       "Now:\n",
       "\n",
       "- Each machine makes 1 widget in 5 minutes.\n",
       "- Therefore, 100 machines working simultaneously would each make 1 widget in 5 minutes.\n",
       "- Together, 100 machines would make 100 widgets in 5 minutes.\n",
       "\n",
       "**Answer:** 5 minutes"
      ],
      "text/plain": [
       "<IPython.core.display.Markdown object>"
      ]
     },
     "metadata": {},
     "output_type": "display_data"
    }
   ],
   "source": [
    "from IPython.display import Markdown, display\n",
    "\n",
    "display(Markdown(answer))\n",
    "\n"
   ]
  },
  {
   "cell_type": "markdown",
   "metadata": {},
   "source": [
    "# Congratulations!\n",
    "\n",
    "That was a small, simple step in the direction of Agentic AI, with your new environment!\n",
    "\n",
    "Next time things get more interesting..."
   ]
  },
  {
   "cell_type": "markdown",
   "metadata": {},
   "source": [
    "<table style=\"margin: 0; text-align: left; width:100%\">\n",
    "    <tr>\n",
    "        <td style=\"width: 150px; height: 150px; vertical-align: middle;\">\n",
    "            <img src=\"../assets/exercise.png\" width=\"150\" height=\"150\" style=\"display: block;\" />\n",
    "        </td>\n",
    "        <td>\n",
    "            <h2 style=\"color:#ff7800;\">Exercise</h2>\n",
    "            <span style=\"color:#ff7800;\">Now try this commercial application:<br/>\n",
    "            First ask the LLM to pick a business area that might be worth exploring for an Agentic AI opportunity.<br/>\n",
    "            Then ask the LLM to present a pain-point in that industry - something challenging that might be ripe for an Agentic solution.<br/>\n",
    "            Finally have 3 third LLM call propose the Agentic AI solution.\n",
    "            </span>\n",
    "        </td>\n",
    "    </tr>\n",
    "</table>"
   ]
  },
  {
   "cell_type": "code",
   "execution_count": 28,
   "metadata": {},
   "outputs": [
    {
     "name": "stdout",
     "output_type": "stream",
     "text": [
      "Absolutely! Agentic AI—AI systems capable of autonomous decision-making and goal-directed behavior—has a lot of exciting potential across various business areas. Here are some promising sectors where an Agentic AI opportunity might be worth exploring:\n",
      "\n",
      "### 1. **Supply Chain and Logistics Optimization**\n",
      "- **Why?** Supply chains are complex, involving inventory management, demand forecasting, supplier coordination, and distribution. Agentic AI can autonomously make real-time decisions to optimize routes, manage inventory shortages, and adjust orders based on dynamic conditions.\n",
      "- **Opportunity:** Develop an AI system that autonomously negotiates with suppliers, forecasts demand, routes shipments efficiently, and responds dynamically to disruptions (e.g., delays, shortages).\n",
      "\n",
      "### 2. **Personalized Healthcare Management**\n",
      "- **Why?** Healthcare involves complex decision-making, personalized treatment plans, and continuous monitoring. Agentic AI could autonomously recommend treatments, schedule appointments, or monitor chronic conditions.\n",
      "- **Opportunity:** Build a system that manages patient care plans, predicts health risks, interacts with patients for compliance, and adjusts prescriptions or lifestyle advice based on real-time data.\n",
      "\n",
      "### 3. **Financial Portfolio Management**\n",
      "- **Why?** Financial markets are fast-moving and data-intensive. Agentic AI can autonomously analyze market conditions, execute trades, and rebalance portfolios without constant human oversight.\n",
      "- **Opportunity:** Create autonomous agents that manage investment portfolios with goals aligned to user risk tolerance, adapt to market changes, and optimize returns in real time.\n",
      "\n",
      "### 4. **Autonomous Customer Support and Sales Agents**\n",
      "- **Why?** Businesses want to provide 24/7 support and personalized sales experiences. An agentic AI could autonomously handle complex customer interactions, upsell/cross-sell, and learn from interactions to improve.\n",
      "- **Opportunity:** Design AI agents that autonomously interact with customers via chat, email, or voice, resolve issues, and even identify sales opportunities personalized to customer behavior.\n",
      "\n",
      "### 5. **Smart Energy Management**\n",
      "- **Why?** Energy grids and building energy systems require dynamic balancing to optimize usage and integrate renewable energy sources. Agentic AI can autonomously manage energy distribution and consumption.\n",
      "- **Opportunity:** Develop an AI agent that dynamically adjusts energy consumption in homes or industrial settings for cost and carbon footprint optimization, coordinating with grid demands.\n",
      "\n",
      "---\n",
      "\n",
      "**Summary:** Among these, **Supply Chain and Logistics Optimization** stands out due to the large scale, complexity, and clear cost savings through autonomous decision-making. However, the final choice depends on your expertise, resources, and access to data.\n",
      "\n",
      "Would you like me to help you further narrow down options or brainstorm specific product concepts for one of these areas?\n"
     ]
    }
   ],
   "source": [
    "# First create the messages:\n",
    "\n",
    "messages = [{\"role\": \"user\", \"content\": \"Help me identify a business area that might be worth exploring for an Agentic AI opputunity.\"}]\n",
    "\n",
    "# Then make the first call:\n",
    "\n",
    "response = openai.chat.completions.create(\n",
    "    model=\"gpt-4.1-mini\",\n",
    "    messages=messages\n",
    ")\n",
    "\n",
    "# Then read the business idea:\n",
    "\n",
    "business_idea = response.choices[0].message.content\n",
    "print(business_idea)\n",
    "\n",
    "# And repeat!"
   ]
  },
  {
   "cell_type": "markdown",
   "metadata": {},
   "source": []
  },
  {
   "cell_type": "code",
   "execution_count": 29,
   "metadata": {},
   "outputs": [
    {
     "name": "stdout",
     "output_type": "stream",
     "text": [
      "Certainly! The key pain-points across the sectors you outlined, which Agentic AI can address, are as follows:\n",
      "\n",
      "### 1. Supply Chain and Logistics Optimization\n",
      "**Pain-points:**  \n",
      "- Complexity and unpredictability in managing inventory, suppliers, and shipments  \n",
      "- Delays and disruptions causing cascading effects and increased costs  \n",
      "- Inefficient route and resource allocation leading to suboptimal operations  \n",
      "\n",
      "### 2. Personalized Healthcare Management  \n",
      "**Pain-points:**  \n",
      "- Difficulty in continuously monitoring and adjusting patient care  \n",
      "- Challenges in personalizing treatments dynamically as health conditions evolve  \n",
      "- Administrative burdens in scheduling and compliance monitoring  \n",
      "\n",
      "### 3. Financial Portfolio Management  \n",
      "**Pain-points:**  \n",
      "- Rapidly changing market conditions requiring continuous monitoring and quick decisions  \n",
      "- Human limitations in processing large-scale data for optimal portfolio adjustments  \n",
      "- Risk of emotional or cognitive biases impacting investment decisions  \n",
      "\n",
      "### 4. Autonomous Customer Support and Sales Agents  \n",
      "**Pain-points:**  \n",
      "- High demand for 24/7 customer service with personalized interactions  \n",
      "- Difficulty in managing complex queries and sales upsells without human agents  \n",
      "- Scaling personalized customer engagement efficiently  \n",
      "\n",
      "### 5. Smart Energy Management  \n",
      "**Pain-points:**  \n",
      "- Need for real-time balancing of energy usage and supply to avoid waste or shortages  \n",
      "- Complexity in integrating variable renewable energy sources into the grid  \n",
      "- Consumer lack of visibility/control over personalized energy consumption  \n",
      "\n",
      "---\n",
      "\n",
      "**Summary of the Core Pain-point:**  \n",
      "Each area struggles with complexity, dynamic environments, and the need for real-time, autonomous decision-making to reduce costs, improve outcomes, or enhance customer experience. Agentic AI’s ability to operate autonomously under such conditions can directly alleviate these pain-points.\n",
      "\n",
      "If you'd like, I can help you focus on one sector and brainstorm tailored product concepts that directly alleviate these pain-points. Would you prefer to dig deeper into any specific area?\n"
     ]
    }
   ],
   "source": [
    "question = \"Can you help me identify the pain-point in \" + business_idea + \" that might be worth exploring for an Agentic AI opputunity.\"\n",
    "messages = [{\"role\": \"user\", \"content\": question}]\n",
    "\n",
    "# Then make the first call:\n",
    "\n",
    "response = openai.chat.completions.create(\n",
    "    model=\"gpt-4.1-mini\",\n",
    "    messages=messages\n",
    ")\n",
    "\n",
    "# Then read the business idea:\n",
    "\n",
    "business_pain_point = response.choices[0].message.content\n",
    "print(business_pain_point)"
   ]
  },
  {
   "cell_type": "code",
   "execution_count": 31,
   "metadata": {},
   "outputs": [
    {
     "data": {
      "text/markdown": [
       "Certainly! Below is a proposed solution framework leveraging Agentic AI to specifically address the pain-points across the five key sectors you outlined. The approach focuses on autonomous, adaptive, and context-aware decision-making to handle complexity and dynamic environments in real-time.\n",
       "\n",
       "---\n",
       "\n",
       "## Proposed Agentic AI Solutions by Sector\n",
       "\n",
       "### 1. Supply Chain and Logistics Optimization  \n",
       "**Agentic AI Capabilities:**  \n",
       "- **Dynamic, predictive inventory management:** Continuously analyze supplier performance, demand patterns, and shipment statuses to autonomously adjust inventory levels and reorder points.  \n",
       "- **Real-time disruption response:** Detect and predict delays (e.g., weather, labor strikes) and automatically reroute shipments or reallocate resources to mitigate cascading impacts.  \n",
       "- **Optimized route planning:** Use reinforcement learning to continuously improve logistics routes considering traffic, fuel costs, and delivery priorities, dynamically adjusting as conditions change.  \n",
       "\n",
       "**Result:** Reduced costs and delays by proactively managing uncertainty and optimizing multi-agent coordination across the chain.\n",
       "\n",
       "---\n",
       "\n",
       "### 2. Personalized Healthcare Management  \n",
       "**Agentic AI Capabilities:**  \n",
       "- **Continuous patient monitoring and adaptive care plans:** Integrate real-time biometric data with medical histories and dynamically update treatment protocols, alerting healthcare providers or adjusting medications where authorized.  \n",
       "- **Intelligent scheduling and compliance assistant:** Automatically manage patient appointments, medication reminders, and regulatory compliance checks, reducing administrative burden.  \n",
       "- **Patient engagement agent:** Provide personalized education, mental health support, and adaptive coaching to improve adherence and outcomes.\n",
       "\n",
       "**Result:** Increased treatment efficacy, improved patient experience, and streamlined healthcare operations via autonomous, personalized agents.\n",
       "\n",
       "---\n",
       "\n",
       "### 3. Financial Portfolio Management  \n",
       "**Agentic AI Capabilities:**  \n",
       "- **24/7 autonomous market monitoring:** Continuously analyze vast, multi-source financial data streams to identify emerging trends, risks, and opportunities at speeds beyond human capability.  \n",
       "- **Bias-free automated trading and rebalancing:** Execute portfolio adjustments based on strategic parameters and risk profiles while avoiding emotional or cognitive biases.  \n",
       "- **Scenario simulation and risk forecasting:** Proactively run stochastic models to recommend hedging or diversification actions in volatile markets.\n",
       "\n",
       "**Result:** More resilient and optimized portfolios driven by data-rich, adaptive AI decision-making that complements human oversight.\n",
       "\n",
       "---\n",
       "\n",
       "### 4. Autonomous Customer Support and Sales Agents  \n",
       "**Agentic AI Capabilities:**  \n",
       "- **Context-aware conversational agents:** Deploy NLP-powered agents capable of handling complex customer questions, troubleshooting, and personalized recommendations.  \n",
       "- **Proactive engagement:** Autonomously initiate interactions based on customer behaviors or lifecycle stages, offering timely upsells or support.  \n",
       "- **Seamless human handoff:** Detect when queries require escalation and smoothly transition to human agents with context transferred, ensuring quality service.\n",
       "\n",
       "**Result:** Scalable 24/7 personalized customer support with improved satisfaction and higher conversion rates without linear increases in human staff.\n",
       "\n",
       "---\n",
       "\n",
       "### 5. Smart Energy Management  \n",
       "**Agentic AI Capabilities:**  \n",
       "- **Real-time grid balancing agent:** Continuously analyze energy consumption patterns, forecast renewable generation variability, and autonomously adjust distribution or storage strategies.  \n",
       "- **Consumer-focused energy coach:** Provide personalized insights and recommendations to users on optimal usage patterns and cost-saving opportunities.  \n",
       "- **Multi-source integration:** Coordinate between traditional and renewable sources to optimize sustainability and reliability while minimizing costs.\n",
       "\n",
       "**Result:** Enhanced grid stability, reduced energy waste, and empowered users managing personalized consumption efficiently.\n",
       "\n",
       "---\n",
       "\n",
       "## Summary  \n",
       "By embedding Agentic AI that autonomously senses, plans, and acts within these complex, interdependent domains, organizations can overcome critical bottlenecks caused by complexity, uncertainty, and scale. The result is smarter, faster, and more personalized operations that deliver better outcomes and experiences at lower costs.\n",
       "\n",
       "---\n",
       "\n",
       "If you want, I can help you develop a detailed product design or roadmap for any one of these sectors based on the above solution framework. Which sector or pain-point would you like to explore further?"
      ],
      "text/plain": [
       "<IPython.core.display.Markdown object>"
      ]
     },
     "metadata": {},
     "output_type": "display_data"
    }
   ],
   "source": [
    "question = \"Propose a solution to the pain-points identified in \" + business_pain_point + \" through agentic AI.\"\n",
    "messages = [{\"role\": \"user\", \"content\": question}]\n",
    "\n",
    "# Then make the first call:\n",
    "\n",
    "response = openai.chat.completions.create(\n",
    "    model=\"gpt-4.1-mini\",\n",
    "    messages=messages\n",
    ")\n",
    "\n",
    "# Then read the business idea:\n",
    "\n",
    "solution = response.choices[0].message.content\n",
    "display(Markdown(solution))"
   ]
  }
 ],
 "metadata": {
  "kernelspec": {
   "display_name": ".venv",
   "language": "python",
   "name": "python3"
  },
  "language_info": {
   "codemirror_mode": {
    "name": "ipython",
    "version": 3
   },
   "file_extension": ".py",
   "mimetype": "text/x-python",
   "name": "python",
   "nbconvert_exporter": "python",
   "pygments_lexer": "ipython3",
   "version": "3.12.11"
  }
 },
 "nbformat": 4,
 "nbformat_minor": 2
}
